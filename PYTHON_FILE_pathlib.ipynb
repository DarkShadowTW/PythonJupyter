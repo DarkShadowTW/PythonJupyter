{
 "cells": [
  {
   "cell_type": "code",
   "execution_count": 36,
   "id": "2aa10761",
   "metadata": {},
   "outputs": [],
   "source": [
    "#**********************************************************\n",
    "# REFERENCE :\n",
    "# BOOK : 超簡單用 Python 讓 Excel 飛起來 (核心模塊語法詳解篇)\n",
    "#**********************************************************"
   ]
  },
  {
   "cell_type": "code",
   "execution_count": 37,
   "id": "6cf228e9",
   "metadata": {},
   "outputs": [
    {
     "name": "stdout",
     "output_type": "stream",
     "text": [
      "C:\\temp\\下載.jfif\n",
      "C:\\temp\\下載.jfif\n",
      "C:\\temp\\下載.jfif\n"
     ]
    }
   ],
   "source": [
    "#Page 22\n",
    "\n",
    "#處理 Windows Path\n",
    "import pathlib\n",
    "\n",
    "path_string = r'C:\\temp\\下載.jfif'\n",
    "print(pathlib.Path(path_string))\n",
    "\n",
    "path_string = 'C:/temp/下載.jfif'\n",
    "print(pathlib.Path(path_string))\n",
    "\n",
    "path_string = 'C:\\\\temp\\\\下載.jfif'\n",
    "print(pathlib.Path(path_string))"
   ]
  },
  {
   "cell_type": "code",
   "execution_count": 38,
   "id": "3bbc24d0",
   "metadata": {},
   "outputs": [
    {
     "name": "stdout",
     "output_type": "stream",
     "text": [
      "C:\\temp\\下載.jfif\n"
     ]
    }
   ],
   "source": [
    "#Page 23 絕對路徑對像\n",
    "from pathlib import Path\n",
    "\n",
    "p = Path(r'C:\\temp\\下載.jfif')\n",
    "\n",
    "print(p)"
   ]
  },
  {
   "cell_type": "code",
   "execution_count": 39,
   "id": "3a097327",
   "metadata": {},
   "outputs": [
    {
     "name": "stdout",
     "output_type": "stream",
     "text": [
      "C:\\Users\\eric4\\Documents\\Python Scripts\n",
      "C:\\Users\\eric4\n"
     ]
    }
   ],
   "source": [
    "#PAGE 24 目前路徑以及USER HOME 目錄\n",
    "from pathlib import Path\n",
    "\n",
    "p1 = Path.cwd()\n",
    "\n",
    "print(p1)\n",
    "\n",
    "p2 = Path.home()\n",
    "\n",
    "print(p2)"
   ]
  },
  {
   "cell_type": "code",
   "execution_count": 43,
   "id": "17aac874",
   "metadata": {},
   "outputs": [
    {
     "name": "stdout",
     "output_type": "stream",
     "text": [
      "=============================================\n",
      "Split Path : \n",
      "=============================================\n",
      "('C:\\\\', 'temp', 'iPhone', 'IMG_4552.PNG')\n",
      "=============================================\n",
      "Display Element Of Path : \n",
      "=============================================\n",
      "C:\\\n",
      "temp\n",
      "iPhone\n",
      "IMG_4552.PNG\n",
      "=============================================\n",
      "Split File Path & Name By pathlib.part : \n",
      "=============================================\n",
      "FILE :  IMG_4552.PNG\n",
      "PATH :  C:\\temp\\iPhone\n"
     ]
    }
   ],
   "source": [
    "#PASE 27 拆解 Path 物件\n",
    "from pathlib import Path\n",
    "\n",
    "#--拆解路徑\n",
    "p3 = Path(r'C:\\temp\\iPhone\\IMG_4552.PNG')\n",
    "\n",
    "p_part = p3.parts\n",
    "\n",
    "print(\"=============================================\")\n",
    "print(\"Split Path : \")\n",
    "print(\"=============================================\")\n",
    "print(p_part)\n",
    "\n",
    "\n",
    "#--Display Element\n",
    "print(\"=============================================\")\n",
    "print(\"Display Element Of Path : \")\n",
    "print(\"=============================================\")\n",
    "for element in p_part:\n",
    "    print(element)\n",
    "    \n",
    "\n",
    "#--Split File Path & Name By pathlib.part\n",
    "print(\"=============================================\")\n",
    "print(\"Split File Path & Name By pathlib.part : \")\n",
    "print(\"=============================================\")\n",
    "\n",
    "file_idx = len(p_part)\n",
    "\n",
    "print(\"FILE : \", p_part[file_idx - 1])\n",
    "\n",
    "element_idx = 0\n",
    "file_path = \"\"\n",
    "for element in p_part:\n",
    "    if len(file_path) == 0:\n",
    "      file_path = element\n",
    "    elif len(file_path) > 0 and file_path[-1:] == \"\\\\\":\n",
    "      file_path = file_path + element\n",
    "    else:\n",
    "      file_path = file_path + \"\\\\\" + element\n",
    "    element_idx = element_idx + 1\n",
    "    if element_idx == file_idx - 1:\n",
    "        break\n",
    "print(\"PATH : \", file_path)"
   ]
  },
  {
   "cell_type": "code",
   "execution_count": 33,
   "id": "ac3ab298",
   "metadata": {},
   "outputs": [
    {
     "name": "stdout",
     "output_type": "stream",
     "text": [
      "C:\\temp\\iPhone\n",
      "IMG_4552.PNG\n"
     ]
    }
   ],
   "source": [
    "#SAMPLE，傳入檔案路徑，拆解路徑與檔案\n",
    "#SAMPLE，傳入檔案路徑，拆解路徑與檔案\n",
    "from pathlib import Path\n",
    "\n",
    "def get_filepath(p_full_path):\n",
    "\n",
    "    o_filename = \"\"\n",
    "    o_filepath = \"\"\n",
    "\n",
    "    l_path_element = p_full_path.parts\n",
    "    \n",
    "    l_file_idx = len(l_path_element) \n",
    "    \n",
    "    l_element_idx = 0\n",
    "    for l_element in l_path_element:\n",
    "        #Get last element as filename\n",
    "        if l_element_idx == l_file_idx - 1:\n",
    "            o_filename = l_element\n",
    "            break\n",
    "        #Combined element of path\n",
    "        elif len(o_filepath) == 0:\n",
    "          o_filepath = l_element\n",
    "        elif len(o_filepath) > 0 and o_filepath[-1:] == \"\\\\\":\n",
    "          o_filepath = o_filepath + l_element\n",
    "        else:\n",
    "          o_filepath = o_filepath + \"\\\\\" + l_element\n",
    "        \n",
    "        l_element_idx = l_element_idx + 1\n",
    "\n",
    "    return o_filepath, o_filename\n",
    "\n",
    "g_full_path = Path(r'C:\\temp\\iPhone\\IMG_4552.PNG')\n",
    "g_filepath, g_filename = get_filepath(g_full_path)\n",
    "\n",
    "print(g_filepath)\n",
    "print(g_filename)"
   ]
  },
  {
   "cell_type": "code",
   "execution_count": 35,
   "id": "d9b097fb",
   "metadata": {},
   "outputs": [
    {
     "name": "stdout",
     "output_type": "stream",
     "text": [
      "C:\\temp\\iPhone\n",
      "IMG_4552.PNG\n"
     ]
    }
   ],
   "source": [
    "#--番外篇，lib 使用的是 os\n",
    "import os\n",
    "\n",
    "def gfuc_split_path_file(p_fullpath):\n",
    "    o_pathname, o_filename = os.path.split(p_fullpath)\n",
    "    return o_pathname, o_filename\n",
    "\n",
    "g_full_path = r'C:\\temp\\iPhone\\IMG_4552.PNG'\n",
    "g_filepath, g_filename = gfuc_split_path_file(g_full_path)\n",
    "\n",
    "print(g_filepath)\n",
    "print(g_filename)"
   ]
  },
  {
   "cell_type": "code",
   "execution_count": null,
   "id": "f9eb0743",
   "metadata": {},
   "outputs": [],
   "source": []
  }
 ],
 "metadata": {
  "kernelspec": {
   "display_name": "Python 3 (ipykernel)",
   "language": "python",
   "name": "python3"
  },
  "language_info": {
   "codemirror_mode": {
    "name": "ipython",
    "version": 3
   },
   "file_extension": ".py",
   "mimetype": "text/x-python",
   "name": "python",
   "nbconvert_exporter": "python",
   "pygments_lexer": "ipython3",
   "version": "3.6.9"
  }
 },
 "nbformat": 4,
 "nbformat_minor": 5
}
